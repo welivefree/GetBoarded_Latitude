{
  "nbformat": 4,
  "nbformat_minor": 0,
  "metadata": {
    "colab": {
      "name": "Copy of Untitled3.ipynb",
      "provenance": []
    },
    "kernelspec": {
      "name": "python3",
      "display_name": "Python 3"
    }
  },
  "cells": [
    {
      "cell_type": "code",
      "metadata": {
        "id": "wwOJ9iCereIl",
        "colab_type": "code",
        "colab": {}
      },
      "source": [
        "import pandas as pd\n",
        "\n",
        "url = 'https://raw.githubusercontent.com/newb-dev-1008/GetBoarded_Latitude/master/Week%202%20Data/covid_recovery_data.csv'\n",
        "df = pd.read_csv(url)"
      ],
      "execution_count": 0,
      "outputs": []
    },
    {
      "cell_type": "code",
      "metadata": {
        "id": "uJiU9oQYrkHu",
        "colab_type": "code",
        "outputId": "54b9e1f2-9d90-4383-8c3a-a549fcbe68f4",
        "colab": {
          "base_uri": "https://localhost:8080/",
          "height": 419
        }
      },
      "source": [
        "df"
      ],
      "execution_count": 0,
      "outputs": [
        {
          "output_type": "execute_result",
          "data": {
            "text/html": [
              "<div>\n",
              "<style scoped>\n",
              "    .dataframe tbody tr th:only-of-type {\n",
              "        vertical-align: middle;\n",
              "    }\n",
              "\n",
              "    .dataframe tbody tr th {\n",
              "        vertical-align: top;\n",
              "    }\n",
              "\n",
              "    .dataframe thead th {\n",
              "        text-align: right;\n",
              "    }\n",
              "</style>\n",
              "<table border=\"1\" class=\"dataframe\">\n",
              "  <thead>\n",
              "    <tr style=\"text-align: right;\">\n",
              "      <th></th>\n",
              "      <th>Date</th>\n",
              "      <th>Country/Region</th>\n",
              "      <th>Province/State</th>\n",
              "      <th>Lat</th>\n",
              "      <th>Long</th>\n",
              "      <th>Confirmed</th>\n",
              "      <th>Recovered</th>\n",
              "      <th>Deaths</th>\n",
              "    </tr>\n",
              "  </thead>\n",
              "  <tbody>\n",
              "    <tr>\n",
              "      <th>0</th>\n",
              "      <td>2020-01-22</td>\n",
              "      <td>Afghanistan</td>\n",
              "      <td>NaN</td>\n",
              "      <td>33.0</td>\n",
              "      <td>65.0</td>\n",
              "      <td>0.0</td>\n",
              "      <td>0.0</td>\n",
              "      <td>0.0</td>\n",
              "    </tr>\n",
              "    <tr>\n",
              "      <th>1</th>\n",
              "      <td>2020-01-23</td>\n",
              "      <td>Afghanistan</td>\n",
              "      <td>NaN</td>\n",
              "      <td>33.0</td>\n",
              "      <td>65.0</td>\n",
              "      <td>0.0</td>\n",
              "      <td>0.0</td>\n",
              "      <td>0.0</td>\n",
              "    </tr>\n",
              "    <tr>\n",
              "      <th>2</th>\n",
              "      <td>2020-01-24</td>\n",
              "      <td>Afghanistan</td>\n",
              "      <td>NaN</td>\n",
              "      <td>33.0</td>\n",
              "      <td>65.0</td>\n",
              "      <td>0.0</td>\n",
              "      <td>0.0</td>\n",
              "      <td>0.0</td>\n",
              "    </tr>\n",
              "    <tr>\n",
              "      <th>3</th>\n",
              "      <td>2020-01-25</td>\n",
              "      <td>Afghanistan</td>\n",
              "      <td>NaN</td>\n",
              "      <td>33.0</td>\n",
              "      <td>65.0</td>\n",
              "      <td>0.0</td>\n",
              "      <td>0.0</td>\n",
              "      <td>0.0</td>\n",
              "    </tr>\n",
              "    <tr>\n",
              "      <th>4</th>\n",
              "      <td>2020-01-26</td>\n",
              "      <td>Afghanistan</td>\n",
              "      <td>NaN</td>\n",
              "      <td>33.0</td>\n",
              "      <td>65.0</td>\n",
              "      <td>0.0</td>\n",
              "      <td>0.0</td>\n",
              "      <td>0.0</td>\n",
              "    </tr>\n",
              "    <tr>\n",
              "      <th>...</th>\n",
              "      <td>...</td>\n",
              "      <td>...</td>\n",
              "      <td>...</td>\n",
              "      <td>...</td>\n",
              "      <td>...</td>\n",
              "      <td>...</td>\n",
              "      <td>...</td>\n",
              "      <td>...</td>\n",
              "    </tr>\n",
              "    <tr>\n",
              "      <th>23755</th>\n",
              "      <td>2020-04-16</td>\n",
              "      <td>Zimbabwe</td>\n",
              "      <td>NaN</td>\n",
              "      <td>-20.0</td>\n",
              "      <td>30.0</td>\n",
              "      <td>23.0</td>\n",
              "      <td>1.0</td>\n",
              "      <td>3.0</td>\n",
              "    </tr>\n",
              "    <tr>\n",
              "      <th>23756</th>\n",
              "      <td>2020-04-17</td>\n",
              "      <td>Zimbabwe</td>\n",
              "      <td>NaN</td>\n",
              "      <td>-20.0</td>\n",
              "      <td>30.0</td>\n",
              "      <td>24.0</td>\n",
              "      <td>2.0</td>\n",
              "      <td>3.0</td>\n",
              "    </tr>\n",
              "    <tr>\n",
              "      <th>23757</th>\n",
              "      <td>2020-04-18</td>\n",
              "      <td>Zimbabwe</td>\n",
              "      <td>NaN</td>\n",
              "      <td>-20.0</td>\n",
              "      <td>30.0</td>\n",
              "      <td>25.0</td>\n",
              "      <td>2.0</td>\n",
              "      <td>3.0</td>\n",
              "    </tr>\n",
              "    <tr>\n",
              "      <th>23758</th>\n",
              "      <td>2020-04-19</td>\n",
              "      <td>Zimbabwe</td>\n",
              "      <td>NaN</td>\n",
              "      <td>-20.0</td>\n",
              "      <td>30.0</td>\n",
              "      <td>25.0</td>\n",
              "      <td>2.0</td>\n",
              "      <td>3.0</td>\n",
              "    </tr>\n",
              "    <tr>\n",
              "      <th>23759</th>\n",
              "      <td>2020-04-20</td>\n",
              "      <td>Zimbabwe</td>\n",
              "      <td>NaN</td>\n",
              "      <td>-20.0</td>\n",
              "      <td>30.0</td>\n",
              "      <td>25.0</td>\n",
              "      <td>2.0</td>\n",
              "      <td>3.0</td>\n",
              "    </tr>\n",
              "  </tbody>\n",
              "</table>\n",
              "<p>23760 rows × 8 columns</p>\n",
              "</div>"
            ],
            "text/plain": [
              "             Date Country/Region Province/State  ...  Confirmed  Recovered  Deaths\n",
              "0      2020-01-22    Afghanistan            NaN  ...        0.0        0.0     0.0\n",
              "1      2020-01-23    Afghanistan            NaN  ...        0.0        0.0     0.0\n",
              "2      2020-01-24    Afghanistan            NaN  ...        0.0        0.0     0.0\n",
              "3      2020-01-25    Afghanistan            NaN  ...        0.0        0.0     0.0\n",
              "4      2020-01-26    Afghanistan            NaN  ...        0.0        0.0     0.0\n",
              "...           ...            ...            ...  ...        ...        ...     ...\n",
              "23755  2020-04-16       Zimbabwe            NaN  ...       23.0        1.0     3.0\n",
              "23756  2020-04-17       Zimbabwe            NaN  ...       24.0        2.0     3.0\n",
              "23757  2020-04-18       Zimbabwe            NaN  ...       25.0        2.0     3.0\n",
              "23758  2020-04-19       Zimbabwe            NaN  ...       25.0        2.0     3.0\n",
              "23759  2020-04-20       Zimbabwe            NaN  ...       25.0        2.0     3.0\n",
              "\n",
              "[23760 rows x 8 columns]"
            ]
          },
          "metadata": {
            "tags": []
          },
          "execution_count": 10
        }
      ]
    },
    {
      "cell_type": "code",
      "metadata": {
        "id": "piXSaT0ir1dR",
        "colab_type": "code",
        "outputId": "dd76ebe1-d630-474a-e410-58532ab6f6db",
        "colab": {
          "base_uri": "https://localhost:8080/",
          "height": 170
        }
      },
      "source": [
        "df.isna().sum()"
      ],
      "execution_count": 0,
      "outputs": [
        {
          "output_type": "execute_result",
          "data": {
            "text/plain": [
              "Date                  0\n",
              "Country/Region        0\n",
              "Province/State    16380\n",
              "Lat                   0\n",
              "Long                  0\n",
              "Confirmed            90\n",
              "Recovered          1260\n",
              "Deaths               90\n",
              "dtype: int64"
            ]
          },
          "metadata": {
            "tags": []
          },
          "execution_count": 11
        }
      ]
    },
    {
      "cell_type": "code",
      "metadata": {
        "id": "NUh7GfdmvVa8",
        "colab_type": "code",
        "colab": {}
      },
      "source": [
        "index=df[ (df['Confirmed']==0)  & (df['Recovered']==0) &  (df['Deaths']==0 )].index"
      ],
      "execution_count": 0,
      "outputs": []
    },
    {
      "cell_type": "code",
      "metadata": {
        "id": "eHIJlTbCwyKQ",
        "colab_type": "code",
        "colab": {}
      },
      "source": [
        "df.drop(index , inplace=True)"
      ],
      "execution_count": 0,
      "outputs": []
    },
    {
      "cell_type": "code",
      "metadata": {
        "id": "9epdBVQmw3mQ",
        "colab_type": "code",
        "outputId": "366e91cd-46c4-4e0c-eb61-aa6377883a2d",
        "colab": {
          "base_uri": "https://localhost:8080/",
          "height": 272
        }
      },
      "source": [
        "df.info()"
      ],
      "execution_count": 0,
      "outputs": [
        {
          "output_type": "stream",
          "text": [
            "<class 'pandas.core.frame.DataFrame'>\n",
            "Int64Index: 14377 entries, 33 to 23759\n",
            "Data columns (total 8 columns):\n",
            " #   Column          Non-Null Count  Dtype  \n",
            "---  ------          --------------  -----  \n",
            " 0   Date            14377 non-null  object \n",
            " 1   Country/Region  14377 non-null  object \n",
            " 2   Province/State  5736 non-null   object \n",
            " 3   Lat             14377 non-null  float64\n",
            " 4   Long            14377 non-null  float64\n",
            " 5   Confirmed       14287 non-null  float64\n",
            " 6   Recovered       13117 non-null  float64\n",
            " 7   Deaths          14287 non-null  float64\n",
            "dtypes: float64(5), object(3)\n",
            "memory usage: 1010.9+ KB\n"
          ],
          "name": "stdout"
        }
      ]
    },
    {
      "cell_type": "code",
      "metadata": {
        "id": "3ouyhgqcyuzt",
        "colab_type": "code",
        "outputId": "94f1d65e-181e-4235-b9ee-0f6130623016",
        "colab": {
          "base_uri": "https://localhost:8080/",
          "height": 680
        }
      },
      "source": [
        "pip install --upgrade geopandas"
      ],
      "execution_count": 0,
      "outputs": [
        {
          "output_type": "stream",
          "text": [
            "Collecting geopandas\n",
            "\u001b[?25l  Downloading https://files.pythonhosted.org/packages/83/c5/3cf9cdc39a6f2552922f79915f36b45a95b71fd343cfc51170a5b6ddb6e8/geopandas-0.7.0-py2.py3-none-any.whl (928kB)\n",
            "\r\u001b[K     |▍                               | 10kB 20.6MB/s eta 0:00:01\r\u001b[K     |▊                               | 20kB 1.8MB/s eta 0:00:01\r\u001b[K     |█                               | 30kB 2.3MB/s eta 0:00:01\r\u001b[K     |█▍                              | 40kB 1.7MB/s eta 0:00:01\r\u001b[K     |█▊                              | 51kB 1.9MB/s eta 0:00:01\r\u001b[K     |██▏                             | 61kB 2.3MB/s eta 0:00:01\r\u001b[K     |██▌                             | 71kB 2.5MB/s eta 0:00:01\r\u001b[K     |██▉                             | 81kB 2.6MB/s eta 0:00:01\r\u001b[K     |███▏                            | 92kB 2.9MB/s eta 0:00:01\r\u001b[K     |███▌                            | 102kB 2.8MB/s eta 0:00:01\r\u001b[K     |███▉                            | 112kB 2.8MB/s eta 0:00:01\r\u001b[K     |████▎                           | 122kB 2.8MB/s eta 0:00:01\r\u001b[K     |████▋                           | 133kB 2.8MB/s eta 0:00:01\r\u001b[K     |█████                           | 143kB 2.8MB/s eta 0:00:01\r\u001b[K     |█████▎                          | 153kB 2.8MB/s eta 0:00:01\r\u001b[K     |█████▋                          | 163kB 2.8MB/s eta 0:00:01\r\u001b[K     |██████                          | 174kB 2.8MB/s eta 0:00:01\r\u001b[K     |██████▍                         | 184kB 2.8MB/s eta 0:00:01\r\u001b[K     |██████▊                         | 194kB 2.8MB/s eta 0:00:01\r\u001b[K     |███████                         | 204kB 2.8MB/s eta 0:00:01\r\u001b[K     |███████▍                        | 215kB 2.8MB/s eta 0:00:01\r\u001b[K     |███████▊                        | 225kB 2.8MB/s eta 0:00:01\r\u001b[K     |████████▏                       | 235kB 2.8MB/s eta 0:00:01\r\u001b[K     |████████▌                       | 245kB 2.8MB/s eta 0:00:01\r\u001b[K     |████████▉                       | 256kB 2.8MB/s eta 0:00:01\r\u001b[K     |█████████▏                      | 266kB 2.8MB/s eta 0:00:01\r\u001b[K     |█████████▌                      | 276kB 2.8MB/s eta 0:00:01\r\u001b[K     |█████████▉                      | 286kB 2.8MB/s eta 0:00:01\r\u001b[K     |██████████▎                     | 296kB 2.8MB/s eta 0:00:01\r\u001b[K     |██████████▋                     | 307kB 2.8MB/s eta 0:00:01\r\u001b[K     |███████████                     | 317kB 2.8MB/s eta 0:00:01\r\u001b[K     |███████████▎                    | 327kB 2.8MB/s eta 0:00:01\r\u001b[K     |███████████▋                    | 337kB 2.8MB/s eta 0:00:01\r\u001b[K     |████████████                    | 348kB 2.8MB/s eta 0:00:01\r\u001b[K     |████████████▍                   | 358kB 2.8MB/s eta 0:00:01\r\u001b[K     |████████████▊                   | 368kB 2.8MB/s eta 0:00:01\r\u001b[K     |█████████████                   | 378kB 2.8MB/s eta 0:00:01\r\u001b[K     |█████████████▍                  | 389kB 2.8MB/s eta 0:00:01\r\u001b[K     |█████████████▊                  | 399kB 2.8MB/s eta 0:00:01\r\u001b[K     |██████████████▏                 | 409kB 2.8MB/s eta 0:00:01\r\u001b[K     |██████████████▌                 | 419kB 2.8MB/s eta 0:00:01\r\u001b[K     |██████████████▉                 | 430kB 2.8MB/s eta 0:00:01\r\u001b[K     |███████████████▏                | 440kB 2.8MB/s eta 0:00:01\r\u001b[K     |███████████████▌                | 450kB 2.8MB/s eta 0:00:01\r\u001b[K     |███████████████▉                | 460kB 2.8MB/s eta 0:00:01\r\u001b[K     |████████████████▎               | 471kB 2.8MB/s eta 0:00:01\r\u001b[K     |████████████████▋               | 481kB 2.8MB/s eta 0:00:01\r\u001b[K     |█████████████████               | 491kB 2.8MB/s eta 0:00:01\r\u001b[K     |█████████████████▎              | 501kB 2.8MB/s eta 0:00:01\r\u001b[K     |█████████████████▋              | 512kB 2.8MB/s eta 0:00:01\r\u001b[K     |██████████████████              | 522kB 2.8MB/s eta 0:00:01\r\u001b[K     |██████████████████▍             | 532kB 2.8MB/s eta 0:00:01\r\u001b[K     |██████████████████▊             | 542kB 2.8MB/s eta 0:00:01\r\u001b[K     |███████████████████             | 552kB 2.8MB/s eta 0:00:01\r\u001b[K     |███████████████████▍            | 563kB 2.8MB/s eta 0:00:01\r\u001b[K     |███████████████████▊            | 573kB 2.8MB/s eta 0:00:01\r\u001b[K     |████████████████████▏           | 583kB 2.8MB/s eta 0:00:01\r\u001b[K     |████████████████████▌           | 593kB 2.8MB/s eta 0:00:01\r\u001b[K     |████████████████████▉           | 604kB 2.8MB/s eta 0:00:01\r\u001b[K     |█████████████████████▏          | 614kB 2.8MB/s eta 0:00:01\r\u001b[K     |█████████████████████▌          | 624kB 2.8MB/s eta 0:00:01\r\u001b[K     |██████████████████████          | 634kB 2.8MB/s eta 0:00:01\r\u001b[K     |██████████████████████▎         | 645kB 2.8MB/s eta 0:00:01\r\u001b[K     |██████████████████████▋         | 655kB 2.8MB/s eta 0:00:01\r\u001b[K     |███████████████████████         | 665kB 2.8MB/s eta 0:00:01\r\u001b[K     |███████████████████████▎        | 675kB 2.8MB/s eta 0:00:01\r\u001b[K     |███████████████████████▋        | 686kB 2.8MB/s eta 0:00:01\r\u001b[K     |████████████████████████        | 696kB 2.8MB/s eta 0:00:01\r\u001b[K     |████████████████████████▍       | 706kB 2.8MB/s eta 0:00:01\r\u001b[K     |████████████████████████▊       | 716kB 2.8MB/s eta 0:00:01\r\u001b[K     |█████████████████████████       | 727kB 2.8MB/s eta 0:00:01\r\u001b[K     |█████████████████████████▍      | 737kB 2.8MB/s eta 0:00:01\r\u001b[K     |█████████████████████████▊      | 747kB 2.8MB/s eta 0:00:01\r\u001b[K     |██████████████████████████▏     | 757kB 2.8MB/s eta 0:00:01\r\u001b[K     |██████████████████████████▌     | 768kB 2.8MB/s eta 0:00:01\r\u001b[K     |██████████████████████████▉     | 778kB 2.8MB/s eta 0:00:01\r\u001b[K     |███████████████████████████▏    | 788kB 2.8MB/s eta 0:00:01\r\u001b[K     |███████████████████████████▌    | 798kB 2.8MB/s eta 0:00:01\r\u001b[K     |████████████████████████████    | 808kB 2.8MB/s eta 0:00:01\r\u001b[K     |████████████████████████████▎   | 819kB 2.8MB/s eta 0:00:01\r\u001b[K     |████████████████████████████▋   | 829kB 2.8MB/s eta 0:00:01\r\u001b[K     |█████████████████████████████   | 839kB 2.8MB/s eta 0:00:01\r\u001b[K     |█████████████████████████████▎  | 849kB 2.8MB/s eta 0:00:01\r\u001b[K     |█████████████████████████████▋  | 860kB 2.8MB/s eta 0:00:01\r\u001b[K     |██████████████████████████████  | 870kB 2.8MB/s eta 0:00:01\r\u001b[K     |██████████████████████████████▍ | 880kB 2.8MB/s eta 0:00:01\r\u001b[K     |██████████████████████████████▊ | 890kB 2.8MB/s eta 0:00:01\r\u001b[K     |███████████████████████████████ | 901kB 2.8MB/s eta 0:00:01\r\u001b[K     |███████████████████████████████▍| 911kB 2.8MB/s eta 0:00:01\r\u001b[K     |███████████████████████████████▊| 921kB 2.8MB/s eta 0:00:01\r\u001b[K     |████████████████████████████████| 931kB 2.8MB/s \n",
            "\u001b[?25hRequirement already satisfied, skipping upgrade: shapely in /usr/local/lib/python3.6/dist-packages (from geopandas) (1.7.0)\n",
            "Collecting pyproj>=2.2.0\n",
            "\u001b[?25l  Downloading https://files.pythonhosted.org/packages/ce/37/705ee471f71130d4ceee41bbcb06f3b52175cb89273cbb5755ed5e6374e0/pyproj-2.6.0-cp36-cp36m-manylinux2010_x86_64.whl (10.4MB)\n",
            "\u001b[K     |████████████████████████████████| 10.4MB 24.4MB/s \n",
            "\u001b[?25hCollecting fiona\n",
            "\u001b[?25l  Downloading https://files.pythonhosted.org/packages/ec/20/4e63bc5c6e62df889297b382c3ccd4a7a488b00946aaaf81a118158c6f09/Fiona-1.8.13.post1-cp36-cp36m-manylinux1_x86_64.whl (14.7MB)\n",
            "\u001b[K     |████████████████████████████████| 14.7MB 333kB/s \n",
            "\u001b[?25hRequirement already satisfied, skipping upgrade: pandas>=0.23.0 in /usr/local/lib/python3.6/dist-packages (from geopandas) (1.0.3)\n",
            "Collecting munch\n",
            "  Downloading https://files.pythonhosted.org/packages/cc/ab/85d8da5c9a45e072301beb37ad7f833cd344e04c817d97e0cc75681d248f/munch-2.5.0-py2.py3-none-any.whl\n",
            "Requirement already satisfied, skipping upgrade: click<8,>=4.0 in /usr/local/lib/python3.6/dist-packages (from fiona->geopandas) (7.1.1)\n",
            "Collecting cligj>=0.5\n",
            "  Downloading https://files.pythonhosted.org/packages/e4/be/30a58b4b0733850280d01f8bd132591b4668ed5c7046761098d665ac2174/cligj-0.5.0-py3-none-any.whl\n",
            "Requirement already satisfied, skipping upgrade: attrs>=17 in /usr/local/lib/python3.6/dist-packages (from fiona->geopandas) (19.3.0)\n",
            "Collecting click-plugins>=1.0\n",
            "  Downloading https://files.pythonhosted.org/packages/e9/da/824b92d9942f4e472702488857914bdd50f73021efea15b4cad9aca8ecef/click_plugins-1.1.1-py2.py3-none-any.whl\n",
            "Requirement already satisfied, skipping upgrade: six>=1.7 in /usr/local/lib/python3.6/dist-packages (from fiona->geopandas) (1.12.0)\n",
            "Requirement already satisfied, skipping upgrade: pytz>=2017.2 in /usr/local/lib/python3.6/dist-packages (from pandas>=0.23.0->geopandas) (2018.9)\n",
            "Requirement already satisfied, skipping upgrade: numpy>=1.13.3 in /usr/local/lib/python3.6/dist-packages (from pandas>=0.23.0->geopandas) (1.18.3)\n",
            "Requirement already satisfied, skipping upgrade: python-dateutil>=2.6.1 in /usr/local/lib/python3.6/dist-packages (from pandas>=0.23.0->geopandas) (2.8.1)\n",
            "Installing collected packages: pyproj, munch, cligj, click-plugins, fiona, geopandas\n",
            "Successfully installed click-plugins-1.1.1 cligj-0.5.0 fiona-1.8.13.post1 geopandas-0.7.0 munch-2.5.0 pyproj-2.6.0\n",
            "Requirement already up-to-date: geopandas in /usr/local/lib/python3.6/dist-packages (0.7.0)\n",
            "Requirement already satisfied, skipping upgrade: fiona in /usr/local/lib/python3.6/dist-packages (from geopandas) (1.8.13.post1)\n",
            "Requirement already satisfied, skipping upgrade: shapely in /usr/local/lib/python3.6/dist-packages (from geopandas) (1.7.0)\n",
            "Requirement already satisfied, skipping upgrade: pyproj>=2.2.0 in /usr/local/lib/python3.6/dist-packages (from geopandas) (2.6.0)\n",
            "Requirement already satisfied, skipping upgrade: pandas>=0.23.0 in /usr/local/lib/python3.6/dist-packages (from geopandas) (1.0.3)\n",
            "Requirement already satisfied, skipping upgrade: munch in /usr/local/lib/python3.6/dist-packages (from fiona->geopandas) (2.5.0)\n",
            "Requirement already satisfied, skipping upgrade: click<8,>=4.0 in /usr/local/lib/python3.6/dist-packages (from fiona->geopandas) (7.1.1)\n",
            "Requirement already satisfied, skipping upgrade: click-plugins>=1.0 in /usr/local/lib/python3.6/dist-packages (from fiona->geopandas) (1.1.1)\n",
            "Requirement already satisfied, skipping upgrade: attrs>=17 in /usr/local/lib/python3.6/dist-packages (from fiona->geopandas) (19.3.0)\n",
            "Requirement already satisfied, skipping upgrade: cligj>=0.5 in /usr/local/lib/python3.6/dist-packages (from fiona->geopandas) (0.5.0)\n",
            "Requirement already satisfied, skipping upgrade: six>=1.7 in /usr/local/lib/python3.6/dist-packages (from fiona->geopandas) (1.12.0)\n",
            "Requirement already satisfied, skipping upgrade: python-dateutil>=2.6.1 in /usr/local/lib/python3.6/dist-packages (from pandas>=0.23.0->geopandas) (2.8.1)\n",
            "Requirement already satisfied, skipping upgrade: numpy>=1.13.3 in /usr/local/lib/python3.6/dist-packages (from pandas>=0.23.0->geopandas) (1.18.3)\n",
            "Requirement already satisfied, skipping upgrade: pytz>=2017.2 in /usr/local/lib/python3.6/dist-packages (from pandas>=0.23.0->geopandas) (2018.9)\n"
          ],
          "name": "stdout"
        }
      ]
    },
    {
      "cell_type": "code",
      "metadata": {
        "id": "x1v3vDC8yD9X",
        "colab_type": "code",
        "colab": {}
      },
      "source": [
        "import matplotlib.pyplot as plt\n",
        "import descartes\n",
        "\n",
        "import geopandas as gpd\n",
        "from shapely.geometry import Point, Polygon"
      ],
      "execution_count": 0,
      "outputs": []
    },
    {
      "cell_type": "code",
      "metadata": {
        "id": "5_ckr2Ti6NFH",
        "colab_type": "code",
        "colab": {}
      },
      "source": [
        ""
      ],
      "execution_count": 0,
      "outputs": []
    },
    {
      "cell_type": "code",
      "metadata": {
        "id": "hZL648EmyzqR",
        "colab_type": "code",
        "colab": {}
      },
      "source": [
        "geo= [Point(xy) for xy in zip(df['Lat'], df['Long'])]"
      ],
      "execution_count": 0,
      "outputs": []
    },
    {
      "cell_type": "code",
      "metadata": {
        "id": "t5YdUWFVzXU_",
        "colab_type": "code",
        "colab": {}
      },
      "source": [
        "geo_df=gpd.GeoDataFrame(df, geometry=geo)"
      ],
      "execution_count": 0,
      "outputs": []
    },
    {
      "cell_type": "code",
      "metadata": {
        "id": "vQwi5L8VzqhO",
        "colab_type": "code",
        "outputId": "9f689b09-4aa6-47bd-a397-6f97064ee11d",
        "colab": {
          "base_uri": "https://localhost:8080/",
          "height": 419
        }
      },
      "source": [
        "geo_df"
      ],
      "execution_count": 0,
      "outputs": [
        {
          "output_type": "execute_result",
          "data": {
            "text/html": [
              "<div>\n",
              "<style scoped>\n",
              "    .dataframe tbody tr th:only-of-type {\n",
              "        vertical-align: middle;\n",
              "    }\n",
              "\n",
              "    .dataframe tbody tr th {\n",
              "        vertical-align: top;\n",
              "    }\n",
              "\n",
              "    .dataframe thead th {\n",
              "        text-align: right;\n",
              "    }\n",
              "</style>\n",
              "<table border=\"1\" class=\"dataframe\">\n",
              "  <thead>\n",
              "    <tr style=\"text-align: right;\">\n",
              "      <th></th>\n",
              "      <th>Date</th>\n",
              "      <th>Country/Region</th>\n",
              "      <th>Province/State</th>\n",
              "      <th>Lat</th>\n",
              "      <th>Long</th>\n",
              "      <th>Confirmed</th>\n",
              "      <th>Recovered</th>\n",
              "      <th>Deaths</th>\n",
              "      <th>geometry</th>\n",
              "    </tr>\n",
              "  </thead>\n",
              "  <tbody>\n",
              "    <tr>\n",
              "      <th>33</th>\n",
              "      <td>2020-02-24</td>\n",
              "      <td>Afghanistan</td>\n",
              "      <td>NaN</td>\n",
              "      <td>33.0</td>\n",
              "      <td>65.0</td>\n",
              "      <td>1.0</td>\n",
              "      <td>0.0</td>\n",
              "      <td>0.0</td>\n",
              "      <td>POINT (33.00000 65.00000)</td>\n",
              "    </tr>\n",
              "    <tr>\n",
              "      <th>34</th>\n",
              "      <td>2020-02-25</td>\n",
              "      <td>Afghanistan</td>\n",
              "      <td>NaN</td>\n",
              "      <td>33.0</td>\n",
              "      <td>65.0</td>\n",
              "      <td>1.0</td>\n",
              "      <td>0.0</td>\n",
              "      <td>0.0</td>\n",
              "      <td>POINT (33.00000 65.00000)</td>\n",
              "    </tr>\n",
              "    <tr>\n",
              "      <th>35</th>\n",
              "      <td>2020-02-26</td>\n",
              "      <td>Afghanistan</td>\n",
              "      <td>NaN</td>\n",
              "      <td>33.0</td>\n",
              "      <td>65.0</td>\n",
              "      <td>1.0</td>\n",
              "      <td>0.0</td>\n",
              "      <td>0.0</td>\n",
              "      <td>POINT (33.00000 65.00000)</td>\n",
              "    </tr>\n",
              "    <tr>\n",
              "      <th>36</th>\n",
              "      <td>2020-02-27</td>\n",
              "      <td>Afghanistan</td>\n",
              "      <td>NaN</td>\n",
              "      <td>33.0</td>\n",
              "      <td>65.0</td>\n",
              "      <td>1.0</td>\n",
              "      <td>0.0</td>\n",
              "      <td>0.0</td>\n",
              "      <td>POINT (33.00000 65.00000)</td>\n",
              "    </tr>\n",
              "    <tr>\n",
              "      <th>37</th>\n",
              "      <td>2020-02-28</td>\n",
              "      <td>Afghanistan</td>\n",
              "      <td>NaN</td>\n",
              "      <td>33.0</td>\n",
              "      <td>65.0</td>\n",
              "      <td>1.0</td>\n",
              "      <td>0.0</td>\n",
              "      <td>0.0</td>\n",
              "      <td>POINT (33.00000 65.00000)</td>\n",
              "    </tr>\n",
              "    <tr>\n",
              "      <th>...</th>\n",
              "      <td>...</td>\n",
              "      <td>...</td>\n",
              "      <td>...</td>\n",
              "      <td>...</td>\n",
              "      <td>...</td>\n",
              "      <td>...</td>\n",
              "      <td>...</td>\n",
              "      <td>...</td>\n",
              "      <td>...</td>\n",
              "    </tr>\n",
              "    <tr>\n",
              "      <th>23755</th>\n",
              "      <td>2020-04-16</td>\n",
              "      <td>Zimbabwe</td>\n",
              "      <td>NaN</td>\n",
              "      <td>-20.0</td>\n",
              "      <td>30.0</td>\n",
              "      <td>23.0</td>\n",
              "      <td>1.0</td>\n",
              "      <td>3.0</td>\n",
              "      <td>POINT (-20.00000 30.00000)</td>\n",
              "    </tr>\n",
              "    <tr>\n",
              "      <th>23756</th>\n",
              "      <td>2020-04-17</td>\n",
              "      <td>Zimbabwe</td>\n",
              "      <td>NaN</td>\n",
              "      <td>-20.0</td>\n",
              "      <td>30.0</td>\n",
              "      <td>24.0</td>\n",
              "      <td>2.0</td>\n",
              "      <td>3.0</td>\n",
              "      <td>POINT (-20.00000 30.00000)</td>\n",
              "    </tr>\n",
              "    <tr>\n",
              "      <th>23757</th>\n",
              "      <td>2020-04-18</td>\n",
              "      <td>Zimbabwe</td>\n",
              "      <td>NaN</td>\n",
              "      <td>-20.0</td>\n",
              "      <td>30.0</td>\n",
              "      <td>25.0</td>\n",
              "      <td>2.0</td>\n",
              "      <td>3.0</td>\n",
              "      <td>POINT (-20.00000 30.00000)</td>\n",
              "    </tr>\n",
              "    <tr>\n",
              "      <th>23758</th>\n",
              "      <td>2020-04-19</td>\n",
              "      <td>Zimbabwe</td>\n",
              "      <td>NaN</td>\n",
              "      <td>-20.0</td>\n",
              "      <td>30.0</td>\n",
              "      <td>25.0</td>\n",
              "      <td>2.0</td>\n",
              "      <td>3.0</td>\n",
              "      <td>POINT (-20.00000 30.00000)</td>\n",
              "    </tr>\n",
              "    <tr>\n",
              "      <th>23759</th>\n",
              "      <td>2020-04-20</td>\n",
              "      <td>Zimbabwe</td>\n",
              "      <td>NaN</td>\n",
              "      <td>-20.0</td>\n",
              "      <td>30.0</td>\n",
              "      <td>25.0</td>\n",
              "      <td>2.0</td>\n",
              "      <td>3.0</td>\n",
              "      <td>POINT (-20.00000 30.00000)</td>\n",
              "    </tr>\n",
              "  </tbody>\n",
              "</table>\n",
              "<p>14377 rows × 9 columns</p>\n",
              "</div>"
            ],
            "text/plain": [
              "             Date Country/Region  ... Deaths                    geometry\n",
              "33     2020-02-24    Afghanistan  ...    0.0   POINT (33.00000 65.00000)\n",
              "34     2020-02-25    Afghanistan  ...    0.0   POINT (33.00000 65.00000)\n",
              "35     2020-02-26    Afghanistan  ...    0.0   POINT (33.00000 65.00000)\n",
              "36     2020-02-27    Afghanistan  ...    0.0   POINT (33.00000 65.00000)\n",
              "37     2020-02-28    Afghanistan  ...    0.0   POINT (33.00000 65.00000)\n",
              "...           ...            ...  ...    ...                         ...\n",
              "23755  2020-04-16       Zimbabwe  ...    3.0  POINT (-20.00000 30.00000)\n",
              "23756  2020-04-17       Zimbabwe  ...    3.0  POINT (-20.00000 30.00000)\n",
              "23757  2020-04-18       Zimbabwe  ...    3.0  POINT (-20.00000 30.00000)\n",
              "23758  2020-04-19       Zimbabwe  ...    3.0  POINT (-20.00000 30.00000)\n",
              "23759  2020-04-20       Zimbabwe  ...    3.0  POINT (-20.00000 30.00000)\n",
              "\n",
              "[14377 rows x 9 columns]"
            ]
          },
          "metadata": {
            "tags": []
          },
          "execution_count": 19
        }
      ]
    },
    {
      "cell_type": "code",
      "metadata": {
        "id": "q0QrfuQZz2SJ",
        "colab_type": "code",
        "outputId": "d1aa2c7b-3906-468f-ea1a-abd0624a7d7d",
        "colab": {
          "base_uri": "https://localhost:8080/",
          "height": 204
        }
      },
      "source": [
        "geo_df.head()"
      ],
      "execution_count": 0,
      "outputs": [
        {
          "output_type": "execute_result",
          "data": {
            "text/html": [
              "<div>\n",
              "<style scoped>\n",
              "    .dataframe tbody tr th:only-of-type {\n",
              "        vertical-align: middle;\n",
              "    }\n",
              "\n",
              "    .dataframe tbody tr th {\n",
              "        vertical-align: top;\n",
              "    }\n",
              "\n",
              "    .dataframe thead th {\n",
              "        text-align: right;\n",
              "    }\n",
              "</style>\n",
              "<table border=\"1\" class=\"dataframe\">\n",
              "  <thead>\n",
              "    <tr style=\"text-align: right;\">\n",
              "      <th></th>\n",
              "      <th>Date</th>\n",
              "      <th>Country/Region</th>\n",
              "      <th>Province/State</th>\n",
              "      <th>Lat</th>\n",
              "      <th>Long</th>\n",
              "      <th>Confirmed</th>\n",
              "      <th>Recovered</th>\n",
              "      <th>Deaths</th>\n",
              "      <th>geometry</th>\n",
              "    </tr>\n",
              "  </thead>\n",
              "  <tbody>\n",
              "    <tr>\n",
              "      <th>33</th>\n",
              "      <td>2020-02-24</td>\n",
              "      <td>Afghanistan</td>\n",
              "      <td>NaN</td>\n",
              "      <td>33.0</td>\n",
              "      <td>65.0</td>\n",
              "      <td>1.0</td>\n",
              "      <td>0.0</td>\n",
              "      <td>0.0</td>\n",
              "      <td>POINT (33.00000 65.00000)</td>\n",
              "    </tr>\n",
              "    <tr>\n",
              "      <th>34</th>\n",
              "      <td>2020-02-25</td>\n",
              "      <td>Afghanistan</td>\n",
              "      <td>NaN</td>\n",
              "      <td>33.0</td>\n",
              "      <td>65.0</td>\n",
              "      <td>1.0</td>\n",
              "      <td>0.0</td>\n",
              "      <td>0.0</td>\n",
              "      <td>POINT (33.00000 65.00000)</td>\n",
              "    </tr>\n",
              "    <tr>\n",
              "      <th>35</th>\n",
              "      <td>2020-02-26</td>\n",
              "      <td>Afghanistan</td>\n",
              "      <td>NaN</td>\n",
              "      <td>33.0</td>\n",
              "      <td>65.0</td>\n",
              "      <td>1.0</td>\n",
              "      <td>0.0</td>\n",
              "      <td>0.0</td>\n",
              "      <td>POINT (33.00000 65.00000)</td>\n",
              "    </tr>\n",
              "    <tr>\n",
              "      <th>36</th>\n",
              "      <td>2020-02-27</td>\n",
              "      <td>Afghanistan</td>\n",
              "      <td>NaN</td>\n",
              "      <td>33.0</td>\n",
              "      <td>65.0</td>\n",
              "      <td>1.0</td>\n",
              "      <td>0.0</td>\n",
              "      <td>0.0</td>\n",
              "      <td>POINT (33.00000 65.00000)</td>\n",
              "    </tr>\n",
              "    <tr>\n",
              "      <th>37</th>\n",
              "      <td>2020-02-28</td>\n",
              "      <td>Afghanistan</td>\n",
              "      <td>NaN</td>\n",
              "      <td>33.0</td>\n",
              "      <td>65.0</td>\n",
              "      <td>1.0</td>\n",
              "      <td>0.0</td>\n",
              "      <td>0.0</td>\n",
              "      <td>POINT (33.00000 65.00000)</td>\n",
              "    </tr>\n",
              "  </tbody>\n",
              "</table>\n",
              "</div>"
            ],
            "text/plain": [
              "          Date Country/Region  ... Deaths                   geometry\n",
              "33  2020-02-24    Afghanistan  ...    0.0  POINT (33.00000 65.00000)\n",
              "34  2020-02-25    Afghanistan  ...    0.0  POINT (33.00000 65.00000)\n",
              "35  2020-02-26    Afghanistan  ...    0.0  POINT (33.00000 65.00000)\n",
              "36  2020-02-27    Afghanistan  ...    0.0  POINT (33.00000 65.00000)\n",
              "37  2020-02-28    Afghanistan  ...    0.0  POINT (33.00000 65.00000)\n",
              "\n",
              "[5 rows x 9 columns]"
            ]
          },
          "metadata": {
            "tags": []
          },
          "execution_count": 20
        }
      ]
    },
    {
      "cell_type": "code",
      "metadata": {
        "id": "NvAVF0jN2zF_",
        "colab_type": "code",
        "outputId": "a00d929e-3cd1-4085-a3c0-8c54aae9e673",
        "colab": {
          "base_uri": "https://localhost:8080/",
          "height": 282
        }
      },
      "source": [
        "geo_df.plot()"
      ],
      "execution_count": 0,
      "outputs": [
        {
          "output_type": "execute_result",
          "data": {
            "text/plain": [
              "<matplotlib.axes._subplots.AxesSubplot at 0x7fbd37d58438>"
            ]
          },
          "metadata": {
            "tags": []
          },
          "execution_count": 21
        },
        {
          "output_type": "display_data",
          "data": {
            "image/png": "[encoded data removed]",
            "text/plain": [
              "<Figure size 432x288 with 1 Axes>"
            ]
          },
          "metadata": {
            "tags": [],
            "needs_background": "light"
          }
        }
      ]
    },
    {
      "cell_type": "code",
      "metadata": {
        "id": "J-XdPbz00xAk",
        "colab_type": "code",
        "outputId": "191ffc0f-7d42-4792-a0c0-387a329c50ca",
        "colab": {
          "base_uri": "https://localhost:8080/",
          "height": 530
        }
      },
      "source": [
        "fig, ax = plt.subplots(1, 1)\n",
        "base = geo_df.plot(color='white', edgecolor='black')\n",
        "geo_df.plot(column='Recovered',ax=ax ,legend=True)"
      ],
      "execution_count": 0,
      "outputs": [
        {
          "output_type": "execute_result",
          "data": {
            "text/plain": [
              "<matplotlib.axes._subplots.AxesSubplot at 0x7fbd37cc1828>"
            ]
          },
          "metadata": {
            "tags": []
          },
          "execution_count": 22
        },
        {
          "output_type": "display_data",
          "data": {
            "image/png": "[encoded data removed]",
            "text/plain": [
              "<Figure size 432x288 with 2 Axes>"
            ]
          },
          "metadata": {
            "tags": [],
            "needs_background": "light"
          }
        },
        {
          "output_type": "display_data",
          "data": {
            "image/png": "[encoded data removed]",
            "text/plain": [
              "<Figure size 432x288 with 1 Axes>"
            ]
          },
          "metadata": {
            "tags": [],
            "needs_background": "light"
          }
        }
      ]
    },
    {
      "cell_type": "code",
      "metadata": {
        "id": "I5JIIULS3NK1",
        "colab_type": "code",
        "outputId": "8f3600a7-f243-433a-f2d7-8948d99aeacb",
        "colab": {
          "base_uri": "https://localhost:8080/",
          "height": 385
        }
      },
      "source": [
        "import seaborn as sns\n",
        "import numpy as np\n",
        "plt.figure(figsize=(10,5))\n",
        "sns.scatterplot(df['Confirmed'], df['Lat'],   alpha=0.3)"
      ],
      "execution_count": 0,
      "outputs": [
        {
          "output_type": "stream",
          "text": [
            "/usr/local/lib/python3.6/dist-packages/statsmodels/tools/_testing.py:19: FutureWarning: pandas.util.testing is deprecated. Use the functions in the public API at pandas.testing instead.\n",
            "  import pandas.util.testing as tm\n"
          ],
          "name": "stderr"
        },
        {
          "output_type": "execute_result",
          "data": {
            "text/plain": [
              "<matplotlib.axes._subplots.AxesSubplot at 0x7fbd2acb5f60>"
            ]
          },
          "metadata": {
            "tags": []
          },
          "execution_count": 23
        },
        {
          "output_type": "display_data",
          "data": {
            "image/png": "[encoded data removed]",
            "text/plain": [
              "<Figure size 720x360 with 1 Axes>"
            ]
          },
          "metadata": {
            "tags": [],
            "needs_background": "light"
          }
        }
      ]
    },
    {
      "cell_type": "code",
      "metadata": {
        "id": "9OVHqxRE5Ev2",
        "colab_type": "code",
        "outputId": "7be3e479-b3ba-4781-cfb2-2a5523ad92f7",
        "colab": {
          "base_uri": "https://localhost:8080/",
          "height": 351
        }
      },
      "source": [
        "plt.figure(figsize=(10,5))\n",
        "sns.scatterplot(df['Long'], df['Lat'],   alpha=0.3)"
      ],
      "execution_count": 0,
      "outputs": [
        {
          "output_type": "execute_result",
          "data": {
            "text/plain": [
              "<matplotlib.axes._subplots.AxesSubplot at 0x7fbd2a534630>"
            ]
          },
          "metadata": {
            "tags": []
          },
          "execution_count": 24
        },
        {
          "output_type": "display_data",
          "data": {
            "image/png": "[encoded data removed]",
            "text/plain": [
              "<Figure size 720x360 with 1 Axes>"
            ]
          },
          "metadata": {
            "tags": [],
            "needs_background": "light"
          }
        }
      ]
    },
    {
      "cell_type": "code",
      "metadata": {
        "id": "1IE3MTv_5CQN",
        "colab_type": "code",
        "outputId": "3e70f7e7-d341-46f4-9f21-8d912101f140",
        "colab": {
          "base_uri": "https://localhost:8080/",
          "height": 568
        }
      },
      "source": [
        "fig, ax = plt.subplots(1, figsize=(12, 9))\n",
        "sns.scatterplot(df['Deaths'], df['Lat'],   alpha=0.3)"
      ],
      "execution_count": 0,
      "outputs": [
        {
          "output_type": "execute_result",
          "data": {
            "text/plain": [
              "<matplotlib.axes._subplots.AxesSubplot at 0x7fbd2a49cf60>"
            ]
          },
          "metadata": {
            "tags": []
          },
          "execution_count": 28
        },
        {
          "output_type": "display_data",
          "data": {
            "image/png": "[encoded data removed]",
            "text/plain": [
              "<Figure size 864x648 with 1 Axes>"
            ]
          },
          "metadata": {
            "tags": [],
            "needs_background": "light"
          }
        }
      ]
    },
    {
      "cell_type": "code",
      "metadata": {
        "id": "8AXy5vV-7Jkn",
        "colab_type": "code",
        "outputId": "c31ffe6d-8712-4019-a662-93e51ffd579f",
        "colab": {
          "base_uri": "https://localhost:8080/",
          "height": 568
        }
      },
      "source": [
        "fig, ax = plt.subplots(1, figsize=(12, 9))\n",
        "sns.scatterplot(df['Recovered'], df['Lat'],   alpha=0.8,palette='deep')\n"
      ],
      "execution_count": 0,
      "outputs": [
        {
          "output_type": "execute_result",
          "data": {
            "text/plain": [
              "<matplotlib.axes._subplots.AxesSubplot at 0x7fbd29c80978>"
            ]
          },
          "metadata": {
            "tags": []
          },
          "execution_count": 41
        },
        {
          "output_type": "display_data",
          "data": {
            "image/png": "[encoded data removed]",
            "text/plain": [
              "<Figure size 864x648 with 1 Axes>"
            ]
          },
          "metadata": {
            "tags": [],
            "needs_background": "light"
          }
        }
      ]
    },
    {
      "cell_type": "code",
      "metadata": {
        "id": "SEelHIqv6Omt",
        "colab_type": "code",
        "outputId": "0a340527-32c0-40ec-e823-b8d36180ae41",
        "colab": {
          "base_uri": "https://localhost:8080/",
          "height": 568
        }
      },
      "source": [
        "fig, ax = plt.subplots(1, figsize=(12, 9))\n",
        "sns.scatterplot(df['Confirmed'], df['Lat'],   alpha=0.8,palette='bright')"
      ],
      "execution_count": 0,
      "outputs": [
        {
          "output_type": "execute_result",
          "data": {
            "text/plain": [
              "<matplotlib.axes._subplots.AxesSubplot at 0x7fbd29c99dd8>"
            ]
          },
          "metadata": {
            "tags": []
          },
          "execution_count": 42
        },
        {
          "output_type": "display_data",
          "data": {
            "image/png": "[encoded data removed]",
            "text/plain": [
              "<Figure size 864x648 with 1 Axes>"
            ]
          },
          "metadata": {
            "tags": [],
            "needs_background": "light"
          }
        }
      ]
    },
    {
      "cell_type": "code",
      "metadata": {
        "id": "AMQhb0aU8qf4",
        "colab_type": "code",
        "outputId": "9784be75-221a-4c60-bad1-3db98ca2f543",
        "colab": {
          "base_uri": "https://localhost:8080/",
          "height": 289
        }
      },
      "source": [
        "df.info()"
      ],
      "execution_count": 0,
      "outputs": [
        {
          "output_type": "stream",
          "text": [
            "<class 'pandas.core.frame.DataFrame'>\n",
            "Int64Index: 14377 entries, 33 to 23759\n",
            "Data columns (total 9 columns):\n",
            " #   Column          Non-Null Count  Dtype   \n",
            "---  ------          --------------  -----   \n",
            " 0   Date            14377 non-null  object  \n",
            " 1   Country/Region  14377 non-null  object  \n",
            " 2   Province/State  5736 non-null   object  \n",
            " 3   Lat             14377 non-null  float64 \n",
            " 4   Long            14377 non-null  float64 \n",
            " 5   Confirmed       14287 non-null  float64 \n",
            " 6   Recovered       13117 non-null  float64 \n",
            " 7   Deaths          14287 non-null  float64 \n",
            " 8   geometry        14377 non-null  geometry\n",
            "dtypes: float64(5), geometry(1), object(3)\n",
            "memory usage: 1.1+ MB\n"
          ],
          "name": "stdout"
        }
      ]
    },
    {
      "cell_type": "code",
      "metadata": {
        "id": "kj5ccBVq9Qm6",
        "colab_type": "code",
        "colab": {}
      },
      "source": [
        "df.drop('Province/State',inplace=True, axis=1 )"
      ],
      "execution_count": 0,
      "outputs": []
    },
    {
      "cell_type": "code",
      "metadata": {
        "id": "dstVvz7G9qOk",
        "colab_type": "code",
        "outputId": "243296a4-8bba-434d-f584-27b243de6006",
        "colab": {
          "base_uri": "https://localhost:8080/",
          "height": 272
        }
      },
      "source": [
        "df.info()"
      ],
      "execution_count": 0,
      "outputs": [
        {
          "output_type": "stream",
          "text": [
            "<class 'pandas.core.frame.DataFrame'>\n",
            "Int64Index: 14377 entries, 33 to 23759\n",
            "Data columns (total 8 columns):\n",
            " #   Column          Non-Null Count  Dtype   \n",
            "---  ------          --------------  -----   \n",
            " 0   Date            14377 non-null  object  \n",
            " 1   Country/Region  14377 non-null  object  \n",
            " 2   Lat             14377 non-null  float64 \n",
            " 3   Long            14377 non-null  float64 \n",
            " 4   Confirmed       14287 non-null  float64 \n",
            " 5   Recovered       13117 non-null  float64 \n",
            " 6   Deaths          14287 non-null  float64 \n",
            " 7   geometry        14377 non-null  geometry\n",
            "dtypes: float64(5), geometry(1), object(2)\n",
            "memory usage: 1010.9+ KB\n"
          ],
          "name": "stdout"
        }
      ]
    },
    {
      "cell_type": "code",
      "metadata": {
        "id": "vFmT9ZSl9sKz",
        "colab_type": "code",
        "outputId": "6a7578e6-e102-4da8-f6ae-a58bc77763cb",
        "colab": {
          "base_uri": "https://localhost:8080/",
          "height": 419
        }
      },
      "source": [
        ""
      ],
      "execution_count": 0,
      "outputs": [
        {
          "output_type": "execute_result",
          "data": {
            "text/html": [
              "<div>\n",
              "<style scoped>\n",
              "    .dataframe tbody tr th:only-of-type {\n",
              "        vertical-align: middle;\n",
              "    }\n",
              "\n",
              "    .dataframe tbody tr th {\n",
              "        vertical-align: top;\n",
              "    }\n",
              "\n",
              "    .dataframe thead th {\n",
              "        text-align: right;\n",
              "    }\n",
              "</style>\n",
              "<table border=\"1\" class=\"dataframe\">\n",
              "  <thead>\n",
              "    <tr style=\"text-align: right;\">\n",
              "      <th></th>\n",
              "      <th>Date</th>\n",
              "      <th>Country/Region</th>\n",
              "      <th>Lat</th>\n",
              "      <th>Long</th>\n",
              "      <th>Confirmed</th>\n",
              "      <th>Recovered</th>\n",
              "      <th>Deaths</th>\n",
              "      <th>geometry</th>\n",
              "    </tr>\n",
              "  </thead>\n",
              "  <tbody>\n",
              "    <tr>\n",
              "      <th>33</th>\n",
              "      <td>2020-02-24</td>\n",
              "      <td>Afghanistan</td>\n",
              "      <td>33.0</td>\n",
              "      <td>65.0</td>\n",
              "      <td>1.0</td>\n",
              "      <td>0.0</td>\n",
              "      <td>0.0</td>\n",
              "      <td>POINT (33.00000 65.00000)</td>\n",
              "    </tr>\n",
              "    <tr>\n",
              "      <th>34</th>\n",
              "      <td>2020-02-25</td>\n",
              "      <td>Afghanistan</td>\n",
              "      <td>33.0</td>\n",
              "      <td>65.0</td>\n",
              "      <td>1.0</td>\n",
              "      <td>0.0</td>\n",
              "      <td>0.0</td>\n",
              "      <td>POINT (33.00000 65.00000)</td>\n",
              "    </tr>\n",
              "    <tr>\n",
              "      <th>35</th>\n",
              "      <td>2020-02-26</td>\n",
              "      <td>Afghanistan</td>\n",
              "      <td>33.0</td>\n",
              "      <td>65.0</td>\n",
              "      <td>1.0</td>\n",
              "      <td>0.0</td>\n",
              "      <td>0.0</td>\n",
              "      <td>POINT (33.00000 65.00000)</td>\n",
              "    </tr>\n",
              "    <tr>\n",
              "      <th>36</th>\n",
              "      <td>2020-02-27</td>\n",
              "      <td>Afghanistan</td>\n",
              "      <td>33.0</td>\n",
              "      <td>65.0</td>\n",
              "      <td>1.0</td>\n",
              "      <td>0.0</td>\n",
              "      <td>0.0</td>\n",
              "      <td>POINT (33.00000 65.00000)</td>\n",
              "    </tr>\n",
              "    <tr>\n",
              "      <th>37</th>\n",
              "      <td>2020-02-28</td>\n",
              "      <td>Afghanistan</td>\n",
              "      <td>33.0</td>\n",
              "      <td>65.0</td>\n",
              "      <td>1.0</td>\n",
              "      <td>0.0</td>\n",
              "      <td>0.0</td>\n",
              "      <td>POINT (33.00000 65.00000)</td>\n",
              "    </tr>\n",
              "    <tr>\n",
              "      <th>...</th>\n",
              "      <td>...</td>\n",
              "      <td>...</td>\n",
              "      <td>...</td>\n",
              "      <td>...</td>\n",
              "      <td>...</td>\n",
              "      <td>...</td>\n",
              "      <td>...</td>\n",
              "      <td>...</td>\n",
              "    </tr>\n",
              "    <tr>\n",
              "      <th>23755</th>\n",
              "      <td>2020-04-16</td>\n",
              "      <td>Zimbabwe</td>\n",
              "      <td>-20.0</td>\n",
              "      <td>30.0</td>\n",
              "      <td>23.0</td>\n",
              "      <td>1.0</td>\n",
              "      <td>3.0</td>\n",
              "      <td>POINT (-20.00000 30.00000)</td>\n",
              "    </tr>\n",
              "    <tr>\n",
              "      <th>23756</th>\n",
              "      <td>2020-04-17</td>\n",
              "      <td>Zimbabwe</td>\n",
              "      <td>-20.0</td>\n",
              "      <td>30.0</td>\n",
              "      <td>24.0</td>\n",
              "      <td>2.0</td>\n",
              "      <td>3.0</td>\n",
              "      <td>POINT (-20.00000 30.00000)</td>\n",
              "    </tr>\n",
              "    <tr>\n",
              "      <th>23757</th>\n",
              "      <td>2020-04-18</td>\n",
              "      <td>Zimbabwe</td>\n",
              "      <td>-20.0</td>\n",
              "      <td>30.0</td>\n",
              "      <td>25.0</td>\n",
              "      <td>2.0</td>\n",
              "      <td>3.0</td>\n",
              "      <td>POINT (-20.00000 30.00000)</td>\n",
              "    </tr>\n",
              "    <tr>\n",
              "      <th>23758</th>\n",
              "      <td>2020-04-19</td>\n",
              "      <td>Zimbabwe</td>\n",
              "      <td>-20.0</td>\n",
              "      <td>30.0</td>\n",
              "      <td>25.0</td>\n",
              "      <td>2.0</td>\n",
              "      <td>3.0</td>\n",
              "      <td>POINT (-20.00000 30.00000)</td>\n",
              "    </tr>\n",
              "    <tr>\n",
              "      <th>23759</th>\n",
              "      <td>2020-04-20</td>\n",
              "      <td>Zimbabwe</td>\n",
              "      <td>-20.0</td>\n",
              "      <td>30.0</td>\n",
              "      <td>25.0</td>\n",
              "      <td>2.0</td>\n",
              "      <td>3.0</td>\n",
              "      <td>POINT (-20.00000 30.00000)</td>\n",
              "    </tr>\n",
              "  </tbody>\n",
              "</table>\n",
              "<p>14377 rows × 8 columns</p>\n",
              "</div>"
            ],
            "text/plain": [
              "             Date Country/Region  ...  Deaths                    geometry\n",
              "33     2020-02-24    Afghanistan  ...     0.0   POINT (33.00000 65.00000)\n",
              "34     2020-02-25    Afghanistan  ...     0.0   POINT (33.00000 65.00000)\n",
              "35     2020-02-26    Afghanistan  ...     0.0   POINT (33.00000 65.00000)\n",
              "36     2020-02-27    Afghanistan  ...     0.0   POINT (33.00000 65.00000)\n",
              "37     2020-02-28    Afghanistan  ...     0.0   POINT (33.00000 65.00000)\n",
              "...           ...            ...  ...     ...                         ...\n",
              "23755  2020-04-16       Zimbabwe  ...     3.0  POINT (-20.00000 30.00000)\n",
              "23756  2020-04-17       Zimbabwe  ...     3.0  POINT (-20.00000 30.00000)\n",
              "23757  2020-04-18       Zimbabwe  ...     3.0  POINT (-20.00000 30.00000)\n",
              "23758  2020-04-19       Zimbabwe  ...     3.0  POINT (-20.00000 30.00000)\n",
              "23759  2020-04-20       Zimbabwe  ...     3.0  POINT (-20.00000 30.00000)\n",
              "\n",
              "[14377 rows x 8 columns]"
            ]
          },
          "metadata": {
            "tags": []
          },
          "execution_count": 54
        }
      ]
    }
  ]
}